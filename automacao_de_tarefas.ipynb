{
 "cells": [
  {
   "cell_type": "markdown",
   "metadata": {
    "editable": true,
    "slideshow": {
     "slide_type": ""
    },
    "tags": []
   },
   "source": [
    "<h2 style=\"color: #37709F\">Automação de Tarefas</h2>"
   ]
  },
  {
   "cell_type": "markdown",
   "metadata": {},
   "source": [
    "<h3 style=\"color: #2F666F\">Buscando as cotações de uma Ação</h3>\n",
    "\n",
    "- Instalando biblioteca:"
   ]
  },
  {
   "cell_type": "code",
   "execution_count": 43,
   "metadata": {},
   "outputs": [
    {
     "name": "stdout",
     "output_type": "stream",
     "text": [
      "Defaulting to user installation because normal site-packages is not writeable\n",
      "Requirement already satisfied: yfinance in c:\\users\\mcels\\appdata\\roaming\\python\\python311\\site-packages (0.2.37)\n",
      "Requirement already satisfied: pandas>=1.3.0 in d:\\anaconda\\lib\\site-packages (from yfinance) (2.1.4)\n",
      "Requirement already satisfied: numpy>=1.16.5 in d:\\anaconda\\lib\\site-packages (from yfinance) (1.26.4)\n",
      "Requirement already satisfied: requests>=2.31 in d:\\anaconda\\lib\\site-packages (from yfinance) (2.31.0)\n",
      "Requirement already satisfied: multitasking>=0.0.7 in c:\\users\\mcels\\appdata\\roaming\\python\\python311\\site-packages (from yfinance) (0.0.11)\n",
      "Requirement already satisfied: lxml>=4.9.1 in d:\\anaconda\\lib\\site-packages (from yfinance) (4.9.3)\n",
      "Requirement already satisfied: appdirs>=1.4.4 in d:\\anaconda\\lib\\site-packages (from yfinance) (1.4.4)\n",
      "Requirement already satisfied: pytz>=2022.5 in d:\\anaconda\\lib\\site-packages (from yfinance) (2023.3.post1)\n",
      "Requirement already satisfied: frozendict>=2.3.4 in c:\\users\\mcels\\appdata\\roaming\\python\\python311\\site-packages (from yfinance) (2.4.0)\n",
      "Requirement already satisfied: peewee>=3.16.2 in c:\\users\\mcels\\appdata\\roaming\\python\\python311\\site-packages (from yfinance) (3.17.1)\n",
      "Requirement already satisfied: beautifulsoup4>=4.11.1 in d:\\anaconda\\lib\\site-packages (from yfinance) (4.12.2)\n",
      "Requirement already satisfied: html5lib>=1.1 in c:\\users\\mcels\\appdata\\roaming\\python\\python311\\site-packages (from yfinance) (1.1)\n",
      "Requirement already satisfied: soupsieve>1.2 in d:\\anaconda\\lib\\site-packages (from beautifulsoup4>=4.11.1->yfinance) (2.5)\n",
      "Requirement already satisfied: six>=1.9 in d:\\anaconda\\lib\\site-packages (from html5lib>=1.1->yfinance) (1.16.0)\n",
      "Requirement already satisfied: webencodings in d:\\anaconda\\lib\\site-packages (from html5lib>=1.1->yfinance) (0.5.1)\n",
      "Requirement already satisfied: python-dateutil>=2.8.2 in d:\\anaconda\\lib\\site-packages (from pandas>=1.3.0->yfinance) (2.8.2)\n",
      "Requirement already satisfied: tzdata>=2022.1 in d:\\anaconda\\lib\\site-packages (from pandas>=1.3.0->yfinance) (2023.3)\n",
      "Requirement already satisfied: charset-normalizer<4,>=2 in d:\\anaconda\\lib\\site-packages (from requests>=2.31->yfinance) (2.0.4)\n",
      "Requirement already satisfied: idna<4,>=2.5 in d:\\anaconda\\lib\\site-packages (from requests>=2.31->yfinance) (3.4)\n",
      "Requirement already satisfied: urllib3<3,>=1.21.1 in d:\\anaconda\\lib\\site-packages (from requests>=2.31->yfinance) (2.0.7)\n",
      "Requirement already satisfied: certifi>=2017.4.17 in d:\\anaconda\\lib\\site-packages (from requests>=2.31->yfinance) (2024.2.2)\n"
     ]
    }
   ],
   "source": [
    "!pip install yfinance"
   ]
  },
  {
   "cell_type": "code",
   "execution_count": 44,
   "metadata": {},
   "outputs": [],
   "source": [
    "import yfinance"
   ]
  },
  {
   "cell_type": "markdown",
   "metadata": {},
   "source": [
    "- **Ticker** é o código de uma ação"
   ]
  },
  {
   "cell_type": "code",
   "execution_count": 45,
   "metadata": {},
   "outputs": [
    {
     "name": "stdin",
     "output_type": "stream",
     "text": [
      "Digite o código da ação:  PETR4.SA\n"
     ]
    }
   ],
   "source": [
    "ticker = input('Digite o código da ação: ')\n",
    "dados = yfinance.Ticker(ticker)"
   ]
  },
  {
   "cell_type": "code",
   "execution_count": 46,
   "metadata": {},
   "outputs": [
    {
     "data": {
      "text/html": [
       "<div>\n",
       "<style scoped>\n",
       "    .dataframe tbody tr th:only-of-type {\n",
       "        vertical-align: middle;\n",
       "    }\n",
       "\n",
       "    .dataframe tbody tr th {\n",
       "        vertical-align: top;\n",
       "    }\n",
       "\n",
       "    .dataframe thead th {\n",
       "        text-align: right;\n",
       "    }\n",
       "</style>\n",
       "<table border=\"1\" class=\"dataframe\">\n",
       "  <thead>\n",
       "    <tr style=\"text-align: right;\">\n",
       "      <th></th>\n",
       "      <th>Open</th>\n",
       "      <th>High</th>\n",
       "      <th>Low</th>\n",
       "      <th>Close</th>\n",
       "      <th>Volume</th>\n",
       "      <th>Dividends</th>\n",
       "      <th>Stock Splits</th>\n",
       "    </tr>\n",
       "    <tr>\n",
       "      <th>Date</th>\n",
       "      <th></th>\n",
       "      <th></th>\n",
       "      <th></th>\n",
       "      <th></th>\n",
       "      <th></th>\n",
       "      <th></th>\n",
       "      <th></th>\n",
       "    </tr>\n",
       "  </thead>\n",
       "  <tbody>\n",
       "    <tr>\n",
       "      <th>2024-02-21 00:00:00-03:00</th>\n",
       "      <td>42.450001</td>\n",
       "      <td>42.720001</td>\n",
       "      <td>42.130001</td>\n",
       "      <td>42.509998</td>\n",
       "      <td>20873800</td>\n",
       "      <td>0.0</td>\n",
       "      <td>0.0</td>\n",
       "    </tr>\n",
       "    <tr>\n",
       "      <th>2024-02-22 00:00:00-03:00</th>\n",
       "      <td>42.669998</td>\n",
       "      <td>42.680000</td>\n",
       "      <td>41.799999</td>\n",
       "      <td>42.189999</td>\n",
       "      <td>32162800</td>\n",
       "      <td>0.0</td>\n",
       "      <td>0.0</td>\n",
       "    </tr>\n",
       "    <tr>\n",
       "      <th>2024-02-23 00:00:00-03:00</th>\n",
       "      <td>42.139999</td>\n",
       "      <td>42.240002</td>\n",
       "      <td>41.610001</td>\n",
       "      <td>41.900002</td>\n",
       "      <td>43924500</td>\n",
       "      <td>0.0</td>\n",
       "      <td>0.0</td>\n",
       "    </tr>\n",
       "    <tr>\n",
       "      <th>2024-02-26 00:00:00-03:00</th>\n",
       "      <td>41.900002</td>\n",
       "      <td>42.730000</td>\n",
       "      <td>41.830002</td>\n",
       "      <td>42.689999</td>\n",
       "      <td>25885700</td>\n",
       "      <td>0.0</td>\n",
       "      <td>0.0</td>\n",
       "    </tr>\n",
       "    <tr>\n",
       "      <th>2024-02-27 00:00:00-03:00</th>\n",
       "      <td>42.700001</td>\n",
       "      <td>42.820000</td>\n",
       "      <td>42.380001</td>\n",
       "      <td>42.630001</td>\n",
       "      <td>27678100</td>\n",
       "      <td>0.0</td>\n",
       "      <td>0.0</td>\n",
       "    </tr>\n",
       "    <tr>\n",
       "      <th>2024-02-28 00:00:00-03:00</th>\n",
       "      <td>42.520000</td>\n",
       "      <td>42.939999</td>\n",
       "      <td>39.830002</td>\n",
       "      <td>40.430000</td>\n",
       "      <td>112322000</td>\n",
       "      <td>0.0</td>\n",
       "      <td>0.0</td>\n",
       "    </tr>\n",
       "    <tr>\n",
       "      <th>2024-02-29 00:00:00-03:00</th>\n",
       "      <td>40.590000</td>\n",
       "      <td>41.240002</td>\n",
       "      <td>39.849998</td>\n",
       "      <td>40.139999</td>\n",
       "      <td>61899800</td>\n",
       "      <td>0.0</td>\n",
       "      <td>0.0</td>\n",
       "    </tr>\n",
       "    <tr>\n",
       "      <th>2024-03-01 00:00:00-03:00</th>\n",
       "      <td>40.349998</td>\n",
       "      <td>40.849998</td>\n",
       "      <td>40.139999</td>\n",
       "      <td>40.180000</td>\n",
       "      <td>31248500</td>\n",
       "      <td>0.0</td>\n",
       "      <td>0.0</td>\n",
       "    </tr>\n",
       "    <tr>\n",
       "      <th>2024-03-04 00:00:00-03:00</th>\n",
       "      <td>40.270000</td>\n",
       "      <td>40.750000</td>\n",
       "      <td>40.020000</td>\n",
       "      <td>40.080002</td>\n",
       "      <td>21988000</td>\n",
       "      <td>0.0</td>\n",
       "      <td>0.0</td>\n",
       "    </tr>\n",
       "    <tr>\n",
       "      <th>2024-03-05 00:00:00-03:00</th>\n",
       "      <td>40.099998</td>\n",
       "      <td>40.369999</td>\n",
       "      <td>39.610001</td>\n",
       "      <td>39.959999</td>\n",
       "      <td>30293300</td>\n",
       "      <td>0.0</td>\n",
       "      <td>0.0</td>\n",
       "    </tr>\n",
       "    <tr>\n",
       "      <th>2024-03-06 00:00:00-03:00</th>\n",
       "      <td>40.200001</td>\n",
       "      <td>40.840000</td>\n",
       "      <td>40.110001</td>\n",
       "      <td>40.840000</td>\n",
       "      <td>45481000</td>\n",
       "      <td>0.0</td>\n",
       "      <td>0.0</td>\n",
       "    </tr>\n",
       "    <tr>\n",
       "      <th>2024-03-07 00:00:00-03:00</th>\n",
       "      <td>40.639999</td>\n",
       "      <td>40.939999</td>\n",
       "      <td>40.279999</td>\n",
       "      <td>40.389999</td>\n",
       "      <td>50199800</td>\n",
       "      <td>0.0</td>\n",
       "      <td>0.0</td>\n",
       "    </tr>\n",
       "    <tr>\n",
       "      <th>2024-03-08 00:00:00-03:00</th>\n",
       "      <td>35.900002</td>\n",
       "      <td>37.060001</td>\n",
       "      <td>35.099998</td>\n",
       "      <td>36.700001</td>\n",
       "      <td>230369800</td>\n",
       "      <td>0.0</td>\n",
       "      <td>0.0</td>\n",
       "    </tr>\n",
       "    <tr>\n",
       "      <th>2024-03-11 00:00:00-03:00</th>\n",
       "      <td>35.669998</td>\n",
       "      <td>37.740002</td>\n",
       "      <td>35.299999</td>\n",
       "      <td>35.650002</td>\n",
       "      <td>127528700</td>\n",
       "      <td>0.0</td>\n",
       "      <td>0.0</td>\n",
       "    </tr>\n",
       "    <tr>\n",
       "      <th>2024-03-12 00:00:00-03:00</th>\n",
       "      <td>36.349998</td>\n",
       "      <td>37.230000</td>\n",
       "      <td>36.160000</td>\n",
       "      <td>36.820000</td>\n",
       "      <td>76139100</td>\n",
       "      <td>0.0</td>\n",
       "      <td>0.0</td>\n",
       "    </tr>\n",
       "    <tr>\n",
       "      <th>2024-03-13 00:00:00-03:00</th>\n",
       "      <td>36.900002</td>\n",
       "      <td>37.330002</td>\n",
       "      <td>36.310001</td>\n",
       "      <td>36.380001</td>\n",
       "      <td>45140600</td>\n",
       "      <td>0.0</td>\n",
       "      <td>0.0</td>\n",
       "    </tr>\n",
       "    <tr>\n",
       "      <th>2024-03-14 00:00:00-03:00</th>\n",
       "      <td>36.740002</td>\n",
       "      <td>36.919998</td>\n",
       "      <td>36.150002</td>\n",
       "      <td>36.220001</td>\n",
       "      <td>39983400</td>\n",
       "      <td>0.0</td>\n",
       "      <td>0.0</td>\n",
       "    </tr>\n",
       "    <tr>\n",
       "      <th>2024-03-15 00:00:00-03:00</th>\n",
       "      <td>36.299999</td>\n",
       "      <td>36.450001</td>\n",
       "      <td>35.939999</td>\n",
       "      <td>36.320000</td>\n",
       "      <td>59362500</td>\n",
       "      <td>0.0</td>\n",
       "      <td>0.0</td>\n",
       "    </tr>\n",
       "    <tr>\n",
       "      <th>2024-03-18 00:00:00-03:00</th>\n",
       "      <td>36.410000</td>\n",
       "      <td>36.720001</td>\n",
       "      <td>35.500000</td>\n",
       "      <td>36.340000</td>\n",
       "      <td>35326100</td>\n",
       "      <td>0.0</td>\n",
       "      <td>0.0</td>\n",
       "    </tr>\n",
       "    <tr>\n",
       "      <th>2024-03-19 00:00:00-03:00</th>\n",
       "      <td>36.389999</td>\n",
       "      <td>36.849998</td>\n",
       "      <td>35.560001</td>\n",
       "      <td>36.070000</td>\n",
       "      <td>48540800</td>\n",
       "      <td>0.0</td>\n",
       "      <td>0.0</td>\n",
       "    </tr>\n",
       "    <tr>\n",
       "      <th>2024-03-20 00:00:00-03:00</th>\n",
       "      <td>36.230000</td>\n",
       "      <td>36.740002</td>\n",
       "      <td>35.810001</td>\n",
       "      <td>36.700001</td>\n",
       "      <td>39017900</td>\n",
       "      <td>0.0</td>\n",
       "      <td>0.0</td>\n",
       "    </tr>\n",
       "    <tr>\n",
       "      <th>2024-03-21 00:00:00-03:00</th>\n",
       "      <td>36.849998</td>\n",
       "      <td>37.060001</td>\n",
       "      <td>35.860001</td>\n",
       "      <td>36.080002</td>\n",
       "      <td>25997800</td>\n",
       "      <td>0.0</td>\n",
       "      <td>0.0</td>\n",
       "    </tr>\n",
       "  </tbody>\n",
       "</table>\n",
       "</div>"
      ],
      "text/plain": [
       "                                Open       High        Low      Close  \\\n",
       "Date                                                                    \n",
       "2024-02-21 00:00:00-03:00  42.450001  42.720001  42.130001  42.509998   \n",
       "2024-02-22 00:00:00-03:00  42.669998  42.680000  41.799999  42.189999   \n",
       "2024-02-23 00:00:00-03:00  42.139999  42.240002  41.610001  41.900002   \n",
       "2024-02-26 00:00:00-03:00  41.900002  42.730000  41.830002  42.689999   \n",
       "2024-02-27 00:00:00-03:00  42.700001  42.820000  42.380001  42.630001   \n",
       "2024-02-28 00:00:00-03:00  42.520000  42.939999  39.830002  40.430000   \n",
       "2024-02-29 00:00:00-03:00  40.590000  41.240002  39.849998  40.139999   \n",
       "2024-03-01 00:00:00-03:00  40.349998  40.849998  40.139999  40.180000   \n",
       "2024-03-04 00:00:00-03:00  40.270000  40.750000  40.020000  40.080002   \n",
       "2024-03-05 00:00:00-03:00  40.099998  40.369999  39.610001  39.959999   \n",
       "2024-03-06 00:00:00-03:00  40.200001  40.840000  40.110001  40.840000   \n",
       "2024-03-07 00:00:00-03:00  40.639999  40.939999  40.279999  40.389999   \n",
       "2024-03-08 00:00:00-03:00  35.900002  37.060001  35.099998  36.700001   \n",
       "2024-03-11 00:00:00-03:00  35.669998  37.740002  35.299999  35.650002   \n",
       "2024-03-12 00:00:00-03:00  36.349998  37.230000  36.160000  36.820000   \n",
       "2024-03-13 00:00:00-03:00  36.900002  37.330002  36.310001  36.380001   \n",
       "2024-03-14 00:00:00-03:00  36.740002  36.919998  36.150002  36.220001   \n",
       "2024-03-15 00:00:00-03:00  36.299999  36.450001  35.939999  36.320000   \n",
       "2024-03-18 00:00:00-03:00  36.410000  36.720001  35.500000  36.340000   \n",
       "2024-03-19 00:00:00-03:00  36.389999  36.849998  35.560001  36.070000   \n",
       "2024-03-20 00:00:00-03:00  36.230000  36.740002  35.810001  36.700001   \n",
       "2024-03-21 00:00:00-03:00  36.849998  37.060001  35.860001  36.080002   \n",
       "\n",
       "                              Volume  Dividends  Stock Splits  \n",
       "Date                                                           \n",
       "2024-02-21 00:00:00-03:00   20873800        0.0           0.0  \n",
       "2024-02-22 00:00:00-03:00   32162800        0.0           0.0  \n",
       "2024-02-23 00:00:00-03:00   43924500        0.0           0.0  \n",
       "2024-02-26 00:00:00-03:00   25885700        0.0           0.0  \n",
       "2024-02-27 00:00:00-03:00   27678100        0.0           0.0  \n",
       "2024-02-28 00:00:00-03:00  112322000        0.0           0.0  \n",
       "2024-02-29 00:00:00-03:00   61899800        0.0           0.0  \n",
       "2024-03-01 00:00:00-03:00   31248500        0.0           0.0  \n",
       "2024-03-04 00:00:00-03:00   21988000        0.0           0.0  \n",
       "2024-03-05 00:00:00-03:00   30293300        0.0           0.0  \n",
       "2024-03-06 00:00:00-03:00   45481000        0.0           0.0  \n",
       "2024-03-07 00:00:00-03:00   50199800        0.0           0.0  \n",
       "2024-03-08 00:00:00-03:00  230369800        0.0           0.0  \n",
       "2024-03-11 00:00:00-03:00  127528700        0.0           0.0  \n",
       "2024-03-12 00:00:00-03:00   76139100        0.0           0.0  \n",
       "2024-03-13 00:00:00-03:00   45140600        0.0           0.0  \n",
       "2024-03-14 00:00:00-03:00   39983400        0.0           0.0  \n",
       "2024-03-15 00:00:00-03:00   59362500        0.0           0.0  \n",
       "2024-03-18 00:00:00-03:00   35326100        0.0           0.0  \n",
       "2024-03-19 00:00:00-03:00   48540800        0.0           0.0  \n",
       "2024-03-20 00:00:00-03:00   39017900        0.0           0.0  \n",
       "2024-03-21 00:00:00-03:00   25997800        0.0           0.0  "
      ]
     },
     "execution_count": 46,
     "metadata": {},
     "output_type": "execute_result"
    }
   ],
   "source": [
    "dados.history()"
   ]
  },
  {
   "cell_type": "markdown",
   "metadata": {},
   "source": [
    "<h3 style=\"color: #2F666F\">Configurando o período histórico</h3>\n",
    "\n",
    "- **Ano:** y\n",
    "- **Mês:** mo\n",
    "- **Dia:** d"
   ]
  },
  {
   "cell_type": "code",
   "execution_count": 47,
   "metadata": {},
   "outputs": [
    {
     "data": {
      "text/html": [
       "<div>\n",
       "<style scoped>\n",
       "    .dataframe tbody tr th:only-of-type {\n",
       "        vertical-align: middle;\n",
       "    }\n",
       "\n",
       "    .dataframe tbody tr th {\n",
       "        vertical-align: top;\n",
       "    }\n",
       "\n",
       "    .dataframe thead th {\n",
       "        text-align: right;\n",
       "    }\n",
       "</style>\n",
       "<table border=\"1\" class=\"dataframe\">\n",
       "  <thead>\n",
       "    <tr style=\"text-align: right;\">\n",
       "      <th></th>\n",
       "      <th>Open</th>\n",
       "      <th>High</th>\n",
       "      <th>Low</th>\n",
       "      <th>Close</th>\n",
       "      <th>Volume</th>\n",
       "      <th>Dividends</th>\n",
       "      <th>Stock Splits</th>\n",
       "    </tr>\n",
       "    <tr>\n",
       "      <th>Date</th>\n",
       "      <th></th>\n",
       "      <th></th>\n",
       "      <th></th>\n",
       "      <th></th>\n",
       "      <th></th>\n",
       "      <th></th>\n",
       "      <th></th>\n",
       "    </tr>\n",
       "  </thead>\n",
       "  <tbody>\n",
       "    <tr>\n",
       "      <th>2023-09-21 00:00:00-03:00</th>\n",
       "      <td>32.732689</td>\n",
       "      <td>33.011880</td>\n",
       "      <td>32.376481</td>\n",
       "      <td>32.501633</td>\n",
       "      <td>60109400</td>\n",
       "      <td>0.0</td>\n",
       "      <td>0.0</td>\n",
       "    </tr>\n",
       "    <tr>\n",
       "      <th>2023-09-22 00:00:00-03:00</th>\n",
       "      <td>32.751944</td>\n",
       "      <td>32.915606</td>\n",
       "      <td>32.549773</td>\n",
       "      <td>32.761570</td>\n",
       "      <td>31020500</td>\n",
       "      <td>0.0</td>\n",
       "      <td>0.0</td>\n",
       "    </tr>\n",
       "    <tr>\n",
       "      <th>2023-09-25 00:00:00-03:00</th>\n",
       "      <td>32.684552</td>\n",
       "      <td>33.050389</td>\n",
       "      <td>32.665298</td>\n",
       "      <td>32.973370</td>\n",
       "      <td>26767200</td>\n",
       "      <td>0.0</td>\n",
       "      <td>0.0</td>\n",
       "    </tr>\n",
       "    <tr>\n",
       "      <th>2023-09-26 00:00:00-03:00</th>\n",
       "      <td>32.732687</td>\n",
       "      <td>32.819333</td>\n",
       "      <td>32.212814</td>\n",
       "      <td>32.212814</td>\n",
       "      <td>60687500</td>\n",
       "      <td>0.0</td>\n",
       "      <td>0.0</td>\n",
       "    </tr>\n",
       "    <tr>\n",
       "      <th>2023-09-27 00:00:00-03:00</th>\n",
       "      <td>32.597908</td>\n",
       "      <td>33.233307</td>\n",
       "      <td>32.520888</td>\n",
       "      <td>33.233307</td>\n",
       "      <td>53708700</td>\n",
       "      <td>0.0</td>\n",
       "      <td>0.0</td>\n",
       "    </tr>\n",
       "    <tr>\n",
       "      <th>...</th>\n",
       "      <td>...</td>\n",
       "      <td>...</td>\n",
       "      <td>...</td>\n",
       "      <td>...</td>\n",
       "      <td>...</td>\n",
       "      <td>...</td>\n",
       "      <td>...</td>\n",
       "    </tr>\n",
       "    <tr>\n",
       "      <th>2024-03-15 00:00:00-03:00</th>\n",
       "      <td>36.299999</td>\n",
       "      <td>36.450001</td>\n",
       "      <td>35.939999</td>\n",
       "      <td>36.320000</td>\n",
       "      <td>59362500</td>\n",
       "      <td>0.0</td>\n",
       "      <td>0.0</td>\n",
       "    </tr>\n",
       "    <tr>\n",
       "      <th>2024-03-18 00:00:00-03:00</th>\n",
       "      <td>36.410000</td>\n",
       "      <td>36.720001</td>\n",
       "      <td>35.500000</td>\n",
       "      <td>36.340000</td>\n",
       "      <td>35326100</td>\n",
       "      <td>0.0</td>\n",
       "      <td>0.0</td>\n",
       "    </tr>\n",
       "    <tr>\n",
       "      <th>2024-03-19 00:00:00-03:00</th>\n",
       "      <td>36.389999</td>\n",
       "      <td>36.849998</td>\n",
       "      <td>35.560001</td>\n",
       "      <td>36.070000</td>\n",
       "      <td>48540800</td>\n",
       "      <td>0.0</td>\n",
       "      <td>0.0</td>\n",
       "    </tr>\n",
       "    <tr>\n",
       "      <th>2024-03-20 00:00:00-03:00</th>\n",
       "      <td>36.230000</td>\n",
       "      <td>36.740002</td>\n",
       "      <td>35.810001</td>\n",
       "      <td>36.700001</td>\n",
       "      <td>39017900</td>\n",
       "      <td>0.0</td>\n",
       "      <td>0.0</td>\n",
       "    </tr>\n",
       "    <tr>\n",
       "      <th>2024-03-21 00:00:00-03:00</th>\n",
       "      <td>36.849998</td>\n",
       "      <td>37.060001</td>\n",
       "      <td>35.860001</td>\n",
       "      <td>36.070000</td>\n",
       "      <td>25998100</td>\n",
       "      <td>0.0</td>\n",
       "      <td>0.0</td>\n",
       "    </tr>\n",
       "  </tbody>\n",
       "</table>\n",
       "<p>123 rows × 7 columns</p>\n",
       "</div>"
      ],
      "text/plain": [
       "                                Open       High        Low      Close  \\\n",
       "Date                                                                    \n",
       "2023-09-21 00:00:00-03:00  32.732689  33.011880  32.376481  32.501633   \n",
       "2023-09-22 00:00:00-03:00  32.751944  32.915606  32.549773  32.761570   \n",
       "2023-09-25 00:00:00-03:00  32.684552  33.050389  32.665298  32.973370   \n",
       "2023-09-26 00:00:00-03:00  32.732687  32.819333  32.212814  32.212814   \n",
       "2023-09-27 00:00:00-03:00  32.597908  33.233307  32.520888  33.233307   \n",
       "...                              ...        ...        ...        ...   \n",
       "2024-03-15 00:00:00-03:00  36.299999  36.450001  35.939999  36.320000   \n",
       "2024-03-18 00:00:00-03:00  36.410000  36.720001  35.500000  36.340000   \n",
       "2024-03-19 00:00:00-03:00  36.389999  36.849998  35.560001  36.070000   \n",
       "2024-03-20 00:00:00-03:00  36.230000  36.740002  35.810001  36.700001   \n",
       "2024-03-21 00:00:00-03:00  36.849998  37.060001  35.860001  36.070000   \n",
       "\n",
       "                             Volume  Dividends  Stock Splits  \n",
       "Date                                                          \n",
       "2023-09-21 00:00:00-03:00  60109400        0.0           0.0  \n",
       "2023-09-22 00:00:00-03:00  31020500        0.0           0.0  \n",
       "2023-09-25 00:00:00-03:00  26767200        0.0           0.0  \n",
       "2023-09-26 00:00:00-03:00  60687500        0.0           0.0  \n",
       "2023-09-27 00:00:00-03:00  53708700        0.0           0.0  \n",
       "...                             ...        ...           ...  \n",
       "2024-03-15 00:00:00-03:00  59362500        0.0           0.0  \n",
       "2024-03-18 00:00:00-03:00  35326100        0.0           0.0  \n",
       "2024-03-19 00:00:00-03:00  48540800        0.0           0.0  \n",
       "2024-03-20 00:00:00-03:00  39017900        0.0           0.0  \n",
       "2024-03-21 00:00:00-03:00  25998100        0.0           0.0  \n",
       "\n",
       "[123 rows x 7 columns]"
      ]
     },
     "execution_count": 47,
     "metadata": {},
     "output_type": "execute_result"
    }
   ],
   "source": [
    "tabela = dados.history(\"6mo\")\n",
    "tabela"
   ]
  },
  {
   "cell_type": "markdown",
   "metadata": {},
   "source": [
    "<h3 style=\"color: #2F666F\">Selecionando apenas a coluna de Fechamento (Close)</h3>\n",
    "\n",
    "- Para selecionar a coluna desejada, basta colocar o nome dela entre colchetes na frente da variável que está armazenando os dados"
   ]
  },
  {
   "cell_type": "code",
   "execution_count": 48,
   "metadata": {},
   "outputs": [
    {
     "data": {
      "text/plain": [
       "Date\n",
       "2023-09-21 00:00:00-03:00    32.501633\n",
       "2023-09-22 00:00:00-03:00    32.761570\n",
       "2023-09-25 00:00:00-03:00    32.973370\n",
       "2023-09-26 00:00:00-03:00    32.212814\n",
       "2023-09-27 00:00:00-03:00    33.233307\n",
       "                               ...    \n",
       "2024-03-15 00:00:00-03:00    36.320000\n",
       "2024-03-18 00:00:00-03:00    36.340000\n",
       "2024-03-19 00:00:00-03:00    36.070000\n",
       "2024-03-20 00:00:00-03:00    36.700001\n",
       "2024-03-21 00:00:00-03:00    36.070000\n",
       "Name: Close, Length: 123, dtype: float64"
      ]
     },
     "execution_count": 48,
     "metadata": {},
     "output_type": "execute_result"
    }
   ],
   "source": [
    "fechamento = tabela.Close\n",
    "fechamento"
   ]
  },
  {
   "cell_type": "markdown",
   "metadata": {},
   "source": [
    "<h3 style=\"color: #2F666F\">Gerando gráfico de linha</h3>\n",
    "\n",
    "- Gerendo um gráfico simples utilizando o método **.plot()**"
   ]
  },
  {
   "cell_type": "code",
   "execution_count": 49,
   "metadata": {},
   "outputs": [
    {
     "data": {
      "text/plain": [
       "<Axes: xlabel='Date'>"
      ]
     },
     "execution_count": 49,
     "metadata": {},
     "output_type": "execute_result"
    },
    {
     "data": {
      "image/png": "[encoded data removed]",
      "text/plain": [
       "<Figure size 640x480 with 1 Axes>"
      ]
     },
     "metadata": {},
     "output_type": "display_data"
    }
   ],
   "source": [
    "fechamento.plot()"
   ]
  },
  {
   "cell_type": "markdown",
   "metadata": {},
   "source": [
    "<h3 style=\"color: #2F666F\">Realizando as análises</h3>\n",
    "\n",
    "- **Cotação máxima**: max()\n",
    "- **Cotação mínima**: min()\n",
    "- **Cotação atual**: É a ultima linha [-1]"
   ]
  },
  {
   "cell_type": "code",
   "execution_count": 50,
   "metadata": {},
   "outputs": [
    {
     "name": "stdout",
     "output_type": "stream",
     "text": [
      "42.900001525878906\n",
      "31.404125213623047\n",
      "36.06999969482422\n"
     ]
    },
    {
     "name": "stderr",
     "output_type": "stream",
     "text": [
      "C:\\Users\\mcels\\AppData\\Local\\Temp\\ipykernel_13864\\643304082.py:3: FutureWarning: Series.__getitem__ treating keys as positions is deprecated. In a future version, integer keys will always be treated as labels (consistent with DataFrame behavior). To access a value by position, use `ser.iloc[pos]`\n",
      "  atual = fechamento[-1]\n"
     ]
    }
   ],
   "source": [
    "maxima = fechamento.max()\n",
    "minima = fechamento.min()\n",
    "atual = fechamento[-1]\n",
    "\n",
    "print(maxima)\n",
    "print(minima)\n",
    "print(atual)"
   ]
  },
  {
   "cell_type": "markdown",
   "metadata": {},
   "source": [
    "- Arredondando o resultado com o método **round()**:"
   ]
  },
  {
   "cell_type": "code",
   "execution_count": 51,
   "metadata": {},
   "outputs": [
    {
     "name": "stdout",
     "output_type": "stream",
     "text": [
      "42.9\n",
      "31.4\n",
      "36.07\n"
     ]
    },
    {
     "name": "stderr",
     "output_type": "stream",
     "text": [
      "C:\\Users\\mcels\\AppData\\Local\\Temp\\ipykernel_13864\\1188854752.py:3: FutureWarning: Series.__getitem__ treating keys as positions is deprecated. In a future version, integer keys will always be treated as labels (consistent with DataFrame behavior). To access a value by position, use `ser.iloc[pos]`\n",
      "  atual = round(fechamento[-1], 2)\n"
     ]
    }
   ],
   "source": [
    "maxima = round(fechamento.max(), 2)\n",
    "minima = round(fechamento.min(), 2)\n",
    "atual = round(fechamento[-1], 2)\n",
    "\n",
    "print(maxima)\n",
    "print(minima)\n",
    "print(atual)"
   ]
  },
  {
   "cell_type": "markdown",
   "metadata": {},
   "source": [
    "<h3 style=\"color: #2F666F\">Enviando e-mail de forma automática</h3>"
   ]
  },
  {
   "cell_type": "markdown",
   "metadata": {},
   "source": [
    "- Processo de enviar um e-mail passo a passo:\n",
    "    - abrir uma nova aba no navegador (clicar em + ou CTRL + T)\n",
    "    - digitar o endereço do gmail (www.gmail.com) e digitar ENTER\n",
    "    - clicar em **Escrever**\n",
    "    - digitar o endereço de e-mail do destinatário\n",
    "    - mudar para o campo Assunto (clicar no campo ou digitar tab)\n",
    "    - digitar o Assunto\n",
    "    - mudar para campo principal do e-mail (clicar no campo ou digitar tab)\n",
    "    - escrever a mensagem\n",
    "    - clicar em **Enviar**"
   ]
  },
  {
   "cell_type": "markdown",
   "metadata": {},
   "source": [
    "<h3 style=\"color: #2F666F\">Instalando as bibliotecas</h3>"
   ]
  },
  {
   "cell_type": "code",
   "execution_count": 52,
   "metadata": {},
   "outputs": [
    {
     "name": "stdout",
     "output_type": "stream",
     "text": [
      "Defaulting to user installation because normal site-packages is not writeable\n",
      "Requirement already satisfied: pyautogui in c:\\users\\mcels\\appdata\\roaming\\python\\python311\\site-packages (0.9.54)\n",
      "Requirement already satisfied: pymsgbox in c:\\users\\mcels\\appdata\\roaming\\python\\python311\\site-packages (from pyautogui) (1.0.9)\n",
      "Requirement already satisfied: pytweening>=1.0.4 in c:\\users\\mcels\\appdata\\roaming\\python\\python311\\site-packages (from pyautogui) (1.2.0)\n",
      "Requirement already satisfied: pyscreeze>=0.1.21 in c:\\users\\mcels\\appdata\\roaming\\python\\python311\\site-packages (from pyautogui) (0.1.30)\n",
      "Requirement already satisfied: pygetwindow>=0.0.5 in c:\\users\\mcels\\appdata\\roaming\\python\\python311\\site-packages (from pyautogui) (0.0.9)\n",
      "Requirement already satisfied: mouseinfo in c:\\users\\mcels\\appdata\\roaming\\python\\python311\\site-packages (from pyautogui) (0.1.3)\n",
      "Requirement already satisfied: pyrect in c:\\users\\mcels\\appdata\\roaming\\python\\python311\\site-packages (from pygetwindow>=0.0.5->pyautogui) (0.2.0)\n",
      "Requirement already satisfied: Pillow>=9.3.0 in d:\\anaconda\\lib\\site-packages (from pyscreeze>=0.1.21->pyautogui) (10.2.0)\n",
      "Requirement already satisfied: pyperclip in c:\\users\\mcels\\appdata\\roaming\\python\\python311\\site-packages (from mouseinfo->pyautogui) (1.8.2)\n"
     ]
    }
   ],
   "source": [
    "!pip install pyautogui"
   ]
  },
  {
   "cell_type": "code",
   "execution_count": 53,
   "metadata": {},
   "outputs": [
    {
     "name": "stdout",
     "output_type": "stream",
     "text": [
      "Defaulting to user installation because normal site-packages is not writeable\n",
      "Requirement already satisfied: pyperclip in c:\\users\\mcels\\appdata\\roaming\\python\\python311\\site-packages (1.8.2)\n"
     ]
    }
   ],
   "source": [
    "!pip install pyperclip"
   ]
  },
  {
   "cell_type": "code",
   "execution_count": 54,
   "metadata": {},
   "outputs": [],
   "source": [
    "import pyautogui\n",
    "import pyperclip"
   ]
  },
  {
   "cell_type": "markdown",
   "metadata": {},
   "source": [
    "<h3 style=\"color: #2F666F\">Automatizando o envio</h3>"
   ]
  },
  {
   "cell_type": "code",
   "execution_count": 55,
   "metadata": {},
   "outputs": [
    {
     "name": "stdout",
     "output_type": "stream",
     "text": [
      "E-mail enviado com sucesso!\n"
     ]
    }
   ],
   "source": [
    "# Dar uma pausa de 2 segundos entre os passos\n",
    "pyautogui.PAUSE = 2\n",
    "\n",
    "# Abrir uma nova aba (ctrl + t)\n",
    "pyautogui.hotkey(\"ctrl\", \"t\")\n",
    "\n",
    "# Digitar www.gmail.com e dar um enter\n",
    "pyperclip.copy(\"www.gmail.com\")\n",
    "pyautogui.hotkey(\"ctrl\", \"v\")\n",
    "pyautogui.hotkey(\"enter\")\n",
    "\n",
    "# Clicar no botão Escrever\n",
    "pyautogui.click(x=416, y=232)\n",
    "\n",
    "# Digitar o destinatário (tab)\n",
    "pyperclip.copy(\"m.celso@hotmail.com\")\n",
    "pyautogui.hotkey(\"ctrl\", \"v\")\n",
    "pyautogui.hotkey(\"tab\")\n",
    "\n",
    "# Preencher assunto\n",
    "pyperclip.copy(\"Análises diária\")\n",
    "pyautogui.hotkey(\"ctrl\", \"v\")\n",
    "pyautogui.hotkey(\"tab\")\n",
    "\n",
    "# Preenchendo o corpo do e-mail\n",
    "mensagem = f\"\"\"\n",
    "Bom dia,\n",
    "\n",
    "Segue, conforme solicitado, as análises dos últimos seis meses da ação {ticker}:\n",
    "\n",
    "Cotação máxima: R$ {maxima}\n",
    "Cotação mínima: R$ {minima}\n",
    "Cotação atual: R$ {atual}\n",
    "\n",
    "Qualquer dúvida, fico à disposição!\n",
    "\n",
    "Atte.\n",
    "Mario\n",
    "\"\"\"\n",
    "pyperclip.copy(mensagem)\n",
    "pyautogui.hotkey(\"ctrl\", \"v\")\n",
    "\n",
    "# Clicar no botão Enviar\n",
    "pyautogui.click(x=1090, y=1005)\n",
    "\n",
    "print(\"E-mail enviado com sucesso!\")"
   ]
  },
  {
   "cell_type": "markdown",
   "metadata": {},
   "source": [
    "<h3 style=\"color: #2F666F\">Procurando a posição do botão</h3>"
   ]
  },
  {
   "cell_type": "code",
   "execution_count": null,
   "metadata": {},
   "outputs": [],
   "source": [
    "import time\n",
    "\n",
    "time.sleep(5)\n",
    "pyautogui.position()"
   ]
  },
  {
   "cell_type": "code",
   "execution_count": null,
   "metadata": {},
   "outputs": [],
   "source": []
  }
 ],
 "metadata": {
  "kernelspec": {
   "display_name": "Python 3 (ipykernel)",
   "language": "python",
   "name": "python3"
  },
  "language_info": {
   "codemirror_mode": {
    "name": "ipython",
    "version": 3
   },
   "file_extension": ".py",
   "mimetype": "text/x-python",
   "name": "python",
   "nbconvert_exporter": "python",
   "pygments_lexer": "ipython3",
   "version": "3.11.7"
  }
 },
 "nbformat": 4,
 "nbformat_minor": 4
}
